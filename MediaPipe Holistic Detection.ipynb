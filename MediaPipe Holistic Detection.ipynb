{
 "cells": [
  {
   "cell_type": "markdown",
   "id": "9d664ba9",
   "metadata": {},
   "source": [
    "### Install and Import Dependencies"
   ]
  },
  {
   "cell_type": "code",
   "execution_count": 1,
   "id": "8a483236",
   "metadata": {},
   "outputs": [
    {
     "name": "stdout",
     "output_type": "stream",
     "text": [
      "Collecting mediapipe\n",
      "  Downloading mediapipe-0.8.5-cp38-cp38-win_amd64.whl (53.7 MB)\n",
      "Collecting opencv-python\n",
      "  Downloading opencv_python-4.5.2.54-cp38-cp38-win_amd64.whl (34.7 MB)\n",
      "Collecting opencv-contrib-python\n",
      "  Downloading opencv_contrib_python-4.5.2.54-cp38-cp38-win_amd64.whl (41.5 MB)\n",
      "Collecting absl-py\n",
      "  Downloading absl_py-0.13.0-py3-none-any.whl (132 kB)\n",
      "Requirement already satisfied: attrs>=19.1.0 in c:\\users\\admin\\miniconda3\\envs\\ai\\lib\\site-packages (from mediapipe) (21.2.0)\n",
      "Collecting numpy\n",
      "  Using cached numpy-1.20.3-cp38-cp38-win_amd64.whl (13.7 MB)\n",
      "Requirement already satisfied: six in c:\\users\\admin\\miniconda3\\envs\\ai\\lib\\site-packages (from mediapipe) (1.16.0)\n",
      "Collecting protobuf>=3.11.4\n",
      "  Downloading protobuf-3.17.3-py2.py3-none-any.whl (173 kB)\n",
      "Requirement already satisfied: wheel in c:\\users\\admin\\miniconda3\\envs\\ai\\lib\\site-packages (from mediapipe) (0.36.2)\n",
      "Installing collected packages: numpy, protobuf, opencv-contrib-python, absl-py, opencv-python, mediapipe\n",
      "Successfully installed absl-py-0.13.0 mediapipe-0.8.5 numpy-1.20.3 opencv-contrib-python-4.5.2.54 opencv-python-4.5.2.54 protobuf-3.17.3\n"
     ]
    },
    {
     "name": "stderr",
     "output_type": "stream",
     "text": [
      "The system cannot find the path specified.\n"
     ]
    }
   ],
   "source": [
    "!pip install mediapipe opencv-python"
   ]
  },
  {
   "cell_type": "code",
   "execution_count": 12,
   "id": "95c09ab6",
   "metadata": {},
   "outputs": [],
   "source": [
    "from mediapipe import solutions as mp\n",
    "import cv2"
   ]
  },
  {
   "cell_type": "markdown",
   "id": "cba18b6e",
   "metadata": {},
   "source": [
    "### Get Realtime Webcam Feed"
   ]
  },
  {
   "cell_type": "code",
   "execution_count": 4,
   "id": "db3f4d41",
   "metadata": {},
   "outputs": [],
   "source": [
    "cap = cv2.VideoCapture(0)\n",
    "while cap.isOpened():\n",
    "    ret, frame = cap.read()\n",
    "    cv2.imshow(\"Raw Webcam Feed\", frame)\n",
    "\n",
    "    if cv2.waitKey(10) & 0xFF == ord('q'):\n",
    "        break\n",
    "\n",
    "cap.release()\n",
    "cv2.destroyAllWindows()"
   ]
  },
  {
   "cell_type": "markdown",
   "id": "8ed9e531",
   "metadata": {},
   "source": [
    "### Make Detections from Feed"
   ]
  },
  {
   "cell_type": "markdown",
   "id": "587fef21",
   "metadata": {},
   "source": [
    "1. Detect Facial Landmarks\n",
    "2. Detect Hand Poses\n",
    "3. Detect Body Poses"
   ]
  },
  {
   "cell_type": "code",
   "execution_count": 43,
   "id": "d85d34ff",
   "metadata": {},
   "outputs": [],
   "source": [
    "cap = cv2.VideoCapture(0)\n",
    "# Initiate holistic model\n",
    "with mp.holistic.Holistic(min_detection_confidence=0.5, min_tracking_confidence=0.5) as holistic:\n",
    "\n",
    "    while cap.isOpened():\n",
    "        ret, frame = cap.read()\n",
    "\n",
    "        # Recolor Feed\n",
    "        image = cv2.cvtColor(frame, cv2.COLOR_BGR2RGB)\n",
    "        # Make Detections\n",
    "        results = holistic.process(image)\n",
    "\n",
    "        # Recolor for rendering\n",
    "        image = cv2.cvtColor(image, cv2.COLOR_RGB2BGR)\n",
    "\n",
    "        # Draw Face Landmarks\n",
    "        mp.drawing_utils.draw_landmarks(\n",
    "            image, results.face_landmarks, mp.holistic.FACE_CONNECTIONS)\n",
    "\n",
    "        # Right Hand\n",
    "        mp.drawing_utils.draw_landmarks(\n",
    "            image, results.right_hand_landmarks, mp.holistic.HAND_CONNECTIONS)\n",
    "\n",
    "        # Left Hand\n",
    "        mp.drawing_utils.draw_landmarks(\n",
    "            image, results.left_hand_landmarks, mp.holistic.HAND_CONNECTIONS)\n",
    "\n",
    "        # Pose Detection\n",
    "        mp.drawing_utils.draw_landmarks(\n",
    "            image, results.pose_landmarks, mp.holistic.POSE_CONNECTIONS)\n",
    "\n",
    "        cv2.imshow(\"Holistic Model Detection\", image)\n",
    "\n",
    "        if cv2.waitKey(10) & 0xFF == ord('q'):\n",
    "            break\n",
    "\n",
    "cap.release()\n",
    "cv2.destroyAllWindows()"
   ]
  },
  {
   "cell_type": "markdown",
   "id": "b8d17fb5",
   "metadata": {},
   "source": [
    "### Apply Styling"
   ]
  },
  {
   "cell_type": "code",
   "execution_count": 17,
   "id": "0642f1bb",
   "metadata": {},
   "outputs": [],
   "source": [
    "mp.drawing_utils.DrawingSpec(color=(0, 0, 255), thickness=2, circle_radius=2)"
   ]
  },
  {
   "cell_type": "code",
   "execution_count": 42,
   "id": "7276f7c3",
   "metadata": {},
   "outputs": [],
   "source": [
    "cap = cv2.VideoCapture(0)\n",
    "# Initiate holistic model\n",
    "with mp.holistic.Holistic(min_detection_confidence=0.5, min_tracking_confidence=0.5) as holistic:\n",
    "\n",
    "    while cap.isOpened():\n",
    "        ret, frame = cap.read()\n",
    "\n",
    "        # Recolor Feed\n",
    "        image = cv2.cvtColor(frame, cv2.COLOR_BGR2RGB)\n",
    "\n",
    "        # Make Detections\n",
    "        results = holistic.process(image)\n",
    "\n",
    "        # Recolor for rendering\n",
    "        image = cv2.cvtColor(image, cv2.COLOR_RGB2BGR)\n",
    "\n",
    "        # Draw Face Landmarks\n",
    "        mp.drawing_utils.draw_landmarks(image, results.face_landmarks, mp.holistic.FACE_CONNECTIONS,\n",
    "                                        mp.drawing_utils.DrawingSpec(\n",
    "                                            color=(242, 216, 175), thickness=1, circle_radius=1),\n",
    "                                        mp.drawing_utils.DrawingSpec(color=(242, 216, 175), thickness=1))\n",
    "\n",
    "        # Right Hand\n",
    "        mp.drawing_utils.draw_landmarks(image, results.right_hand_landmarks, mp.holistic.HAND_CONNECTIONS,\n",
    "                                        mp.drawing_utils.DrawingSpec(\n",
    "                                            color=(181, 137, 82), thickness=2, circle_radius=4),\n",
    "                                        mp.drawing_utils.DrawingSpec(color=(181, 137, 82), thickness=2))\n",
    "\n",
    "        # Left Hand\n",
    "        mp.drawing_utils.draw_landmarks(image, results.left_hand_landmarks, mp.holistic.HAND_CONNECTIONS,\n",
    "                                        mp.drawing_utils.DrawingSpec(\n",
    "                                            color=(181, 137, 82), thickness=2, circle_radius=4),\n",
    "                                        mp.drawing_utils.DrawingSpec(color=(181, 137, 82), thickness=2))\n",
    "\n",
    "        # Pose Detection\n",
    "        mp.drawing_utils.draw_landmarks(image, results.pose_landmarks, mp.holistic.POSE_CONNECTIONS,\n",
    "                                        mp.drawing_utils.DrawingSpec(\n",
    "                                            color=(65, 53, 31), thickness=2, circle_radius=2),\n",
    "                                        mp.drawing_utils.DrawingSpec(color=(65, 53, 31), thickness=2))\n",
    "\n",
    "        cv2.imshow(\"Holistic Model Detection\", image)\n",
    "\n",
    "        if cv2.waitKey(10) & 0xFF == ord('q'):\n",
    "            break\n",
    "\n",
    "cap.release()\n",
    "cv2.destroyAllWindows()"
   ]
  },
  {
   "cell_type": "code",
   "execution_count": 41,
   "id": "8ad021d0",
   "metadata": {},
   "outputs": [],
   "source": [
    "cap.release()\n",
    "cv2.destroyAllWindows()"
   ]
  },
  {
   "cell_type": "code",
   "execution_count": null,
   "id": "31b0076c",
   "metadata": {},
   "outputs": [],
   "source": []
  }
 ],
 "metadata": {
  "kernelspec": {
   "display_name": "Python [conda env:ai] *",
   "language": "python",
   "name": "conda-env-ai-py"
  },
  "language_info": {
   "codemirror_mode": {
    "name": "ipython",
    "version": 3
   },
   "file_extension": ".py",
   "mimetype": "text/x-python",
   "name": "python",
   "nbconvert_exporter": "python",
   "pygments_lexer": "ipython3",
   "version": "3.8.10"
  }
 },
 "nbformat": 4,
 "nbformat_minor": 5
}
